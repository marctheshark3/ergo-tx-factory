{
 "cells": [
  {
   "cell_type": "code",
   "execution_count": 6,
   "id": "3ffaa22a-fbdd-4e8c-af1d-a54806b6ff81",
   "metadata": {},
   "outputs": [],
   "source": [
    "from src.builder import BuildTokenSwapTX\n",
    "from contextlib import redirect_stdout"
   ]
  },
  {
   "cell_type": "code",
   "execution_count": 4,
   "id": "a7cd8741-a05d-4e39-8bf9-390dda609df4",
   "metadata": {},
   "outputs": [],
   "source": [
    "builder = BuildTokenSwapTX()\n",
    "my_wallet = '' # enter your address\n",
    "miner_wallet = '' # enter the miners address"
   ]
  },
  {
   "cell_type": "code",
   "execution_count": null,
   "id": "5d37f37d-b357-4313-b386-640f197915b4",
   "metadata": {},
   "outputs": [],
   "source": [
    "# WARNING THIS SENDS THE TX\n",
    "try:\n",
    "    builder.build_and_send(my_wallet, miner_wallet)\n",
    "except Exception as e:\n",
    "    print(e)"
   ]
  },
  {
   "cell_type": "code",
   "execution_count": 17,
   "id": "2408bac9-a060-4f1e-a871-da1ef321f423",
   "metadata": {},
   "outputs": [
    {
     "name": "stdout",
     "output_type": "stream",
     "text": [
      "MINER DOES HAVE MINER ID, MIN PAYOUT: 5\n"
     ]
    }
   ],
   "source": [
    "from src.converter import ConvertTokens\n",
    "\n",
    "reader = ConvertTokens()\n",
    "miner_id = reader.get_miner_id(miner_wallet)\n",
    "\n",
    "if miner_id:\n",
    "    print('MINER DOES HAVE MINER ID, MIN PAYOUT: {}'.format(miner_id['minimumPayout']))\n",
    "else:\n",
    "    print('MINER DID NOT HAVE MINER ID')"
   ]
  },
  {
   "cell_type": "code",
   "execution_count": null,
   "id": "230bdc4d-bb3d-4724-b0a4-c7ec230f1183",
   "metadata": {},
   "outputs": [],
   "source": []
  }
 ],
 "metadata": {
  "kernelspec": {
   "display_name": "Python 3 (ipykernel)",
   "language": "python",
   "name": "python3"
  },
  "language_info": {
   "codemirror_mode": {
    "name": "ipython",
    "version": 3
   },
   "file_extension": ".py",
   "mimetype": "text/x-python",
   "name": "python",
   "nbconvert_exporter": "python",
   "pygments_lexer": "ipython3",
   "version": "3.10.12"
  }
 },
 "nbformat": 4,
 "nbformat_minor": 5
}
