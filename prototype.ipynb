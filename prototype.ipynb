{
 "cells": [
  {
   "cell_type": "code",
   "execution_count": 1,
   "id": "3ffaa22a-fbdd-4e8c-af1d-a54806b6ff81",
   "metadata": {},
   "outputs": [],
   "source": [
    "from src.builder import BuildTokenSwapTX\n",
    "from contextlib import redirect_stdout\n",
    "import time\n",
    "from src.core import SigsCore\n",
    "import pandas as pd"
   ]
  },
  {
   "cell_type": "code",
   "execution_count": 2,
   "id": "769911e0-eb91-46fa-8674-18ef6db90cba",
   "metadata": {},
   "outputs": [
    {
     "name": "stdout",
     "output_type": "stream",
     "text": [
      "updating minimum payment\n",
      "1324551 74eeec549da941ef88ace0f2f5fb0ae3b41bcbfd97ef7c5f964b92d0fba87422 270619a2c297c0818e8afc59c8a0ae679fed0c3d91d9295384f4203f23db651a\n",
      "a\n",
      "[['b0b312cde931c8bbdac0dac5bfd8e2c03bf4611275dc967988c8d15bd5ec20e0'], ['8b08cdd5449a9592a9e79711d7d79249d7a03c535d17efaee83e216e80a44c4b']] [[7.82742], [25.869894]] [3.0, 3.0] DATA VERIFICATION [{'tokenId': 'b0b312cde931c8bbdac0dac5bfd8e2c03bf4611275dc967988c8d15bd5ec20e0', 'amount': 7.82742, 'token': 'Bober'}, {'tokenId': '8b08cdd5449a9592a9e79711d7d79249d7a03c535d17efaee83e216e80a44c4b', 'amount': 25.869894, 'token': 'RSN'}]\n",
      "java.lang.IllegalArgumentException: requirement failed: total inputs 1165800000 is less then total outputs 6001200000 WE LIKELY RAN OUT OF TOKENS OR ERG!!!!\n",
      "updating data\n"
     ]
    }
   ],
   "source": [
    "robot = SigsCore()\n",
    "df = robot.execute(debug=False)"
   ]
  },
  {
   "cell_type": "code",
   "execution_count": 3,
   "id": "3f0988b8-c1bf-4a11-bb73-a665c1070b28",
   "metadata": {},
   "outputs": [
    {
     "data": {
      "text/html": [
       "<div>\n",
       "<style scoped>\n",
       "    .dataframe tbody tr th:only-of-type {\n",
       "        vertical-align: middle;\n",
       "    }\n",
       "\n",
       "    .dataframe tbody tr th {\n",
       "        vertical-align: top;\n",
       "    }\n",
       "\n",
       "    .dataframe thead th {\n",
       "        text-align: right;\n",
       "    }\n",
       "</style>\n",
       "<table border=\"1\" class=\"dataframe\">\n",
       "  <thead>\n",
       "    <tr style=\"text-align: right;\">\n",
       "      <th></th>\n",
       "      <th>Asset</th>\n",
       "      <th>Amount</th>\n",
       "      <th>Miner</th>\n",
       "      <th>Balance Paid</th>\n",
       "      <th>TransactionId</th>\n",
       "    </tr>\n",
       "  </thead>\n",
       "  <tbody>\n",
       "    <tr>\n",
       "      <th>0</th>\n",
       "      <td>ERGO</td>\n",
       "      <td>6.000000</td>\n",
       "      <td>9eg7v2nkypUZbdyvSKSD9kg8FNwrEdTrfC2xdXWXmEpDAF...</td>\n",
       "      <td>10</td>\n",
       "      <td>NOT ENOUGH LIQUIDITY</td>\n",
       "    </tr>\n",
       "    <tr>\n",
       "      <th>1</th>\n",
       "      <td>Bober</td>\n",
       "      <td>7.827420</td>\n",
       "      <td>9eg7v2nkypUZbdyvSKSD9kg8FNwrEdTrfC2xdXWXmEpDAF...</td>\n",
       "      <td>10</td>\n",
       "      <td>NOT ENOUGH LIQUIDITY</td>\n",
       "    </tr>\n",
       "    <tr>\n",
       "      <th>2</th>\n",
       "      <td>RSN</td>\n",
       "      <td>25.869894</td>\n",
       "      <td>9eg7v2nkypUZbdyvSKSD9kg8FNwrEdTrfC2xdXWXmEpDAF...</td>\n",
       "      <td>10</td>\n",
       "      <td>NOT ENOUGH LIQUIDITY</td>\n",
       "    </tr>\n",
       "  </tbody>\n",
       "</table>\n",
       "</div>"
      ],
      "text/plain": [
       "   Asset     Amount                                              Miner  \\\n",
       "0   ERGO   6.000000  9eg7v2nkypUZbdyvSKSD9kg8FNwrEdTrfC2xdXWXmEpDAF...   \n",
       "1  Bober   7.827420  9eg7v2nkypUZbdyvSKSD9kg8FNwrEdTrfC2xdXWXmEpDAF...   \n",
       "2    RSN  25.869894  9eg7v2nkypUZbdyvSKSD9kg8FNwrEdTrfC2xdXWXmEpDAF...   \n",
       "\n",
       "   Balance Paid         TransactionId  \n",
       "0            10  NOT ENOUGH LIQUIDITY  \n",
       "1            10  NOT ENOUGH LIQUIDITY  \n",
       "2            10  NOT ENOUGH LIQUIDITY  "
      ]
     },
     "execution_count": 3,
     "metadata": {},
     "output_type": "execute_result"
    }
   ],
   "source": [
    "df"
   ]
  },
  {
   "cell_type": "code",
   "execution_count": 2,
   "id": "a7cd8741-a05d-4e39-8bf9-390dda609df4",
   "metadata": {},
   "outputs": [],
   "source": [
    "builder = BuildTokenSwapTX()\n",
    "my_wallet = '9iGS6knNs872VydbnzxJGfHsPmM7bfFwK7iCn8cETQT9tVS3KCh' # enter your address\n",
    "miner_wallet = '9eg7v2nkypUZbdyvSKSD9kg8FNwrEdTrfC2xdXWXmEpDAFEtYEn' # enter the miners address\n",
    "# miner_wallet = '9hAcdWpFAv7biCSeUcCvXWYRfEepm1ubdsfg5PC48k9S7ymiU3W'"
   ]
  },
  {
   "cell_type": "code",
   "execution_count": 6,
   "id": "5055d6a3-615b-46f4-8121-0301ca72545b",
   "metadata": {
    "scrolled": true
   },
   "outputs": [
    {
     "name": "stdout",
     "output_type": "stream",
     "text": [
      "gathering tokens\n",
      "1324410 f1089892310222a9e081d3ecf62422bffd8251ae42948b582e27da8bac861527 263ad60fd1e860749061f13e95ae3ea7ecf573fd4e04122ac0aa48c4dd746c6b\n",
      "trying conversion\n",
      "done\n",
      "{'token': 'ERGO', 'value': 100}\n",
      "getting token\n",
      "got it\n",
      "results {'ERGO': 0.2}\n",
      "got the tokens\n",
      "submited TX: 6e2f44c307afda48df93cd1b39e3b327747e5e79c0d36a53b92dcce498370daf\n",
      "Checking for confirmation of tx: 6e2f44c307afda48df93cd1b39e3b327747e5e79c0d36a53b92dcce498370daf\n",
      "Failed to retrieve data: Status code 404\n",
      "TX UNconfirmed......Going to Go to Sleep!\n",
      "Checking for confirmation of tx: 6e2f44c307afda48df93cd1b39e3b327747e5e79c0d36a53b92dcce498370daf\n",
      "Failed to retrieve data: Status code 404\n",
      "TX UNconfirmed......Going to Go to Sleep!\n",
      "Checking for confirmation of tx: 6e2f44c307afda48df93cd1b39e3b327747e5e79c0d36a53b92dcce498370daf\n",
      "Failed to retrieve data: Status code 404\n",
      "TX UNconfirmed......Going to Go to Sleep!\n",
      "Checking for confirmation of tx: 6e2f44c307afda48df93cd1b39e3b327747e5e79c0d36a53b92dcce498370daf\n",
      "Failed to retrieve data: Status code 404\n",
      "TX UNconfirmed......Going to Go to Sleep!\n",
      "Checking for confirmation of tx: 6e2f44c307afda48df93cd1b39e3b327747e5e79c0d36a53b92dcce498370daf\n",
      "Failed to retrieve data: Status code 404\n",
      "TX UNconfirmed......Going to Go to Sleep!\n",
      "Checking for confirmation of tx: 6e2f44c307afda48df93cd1b39e3b327747e5e79c0d36a53b92dcce498370daf\n",
      "Failed to retrieve data: Status code 404\n",
      "TX UNconfirmed......Going to Go to Sleep!\n",
      "Checking for confirmation of tx: 6e2f44c307afda48df93cd1b39e3b327747e5e79c0d36a53b92dcce498370daf\n",
      "Failed to retrieve data: Status code 404\n",
      "TX UNconfirmed......Going to Go to Sleep!\n",
      "Checking for confirmation of tx: 6e2f44c307afda48df93cd1b39e3b327747e5e79c0d36a53b92dcce498370daf\n",
      "TX CONFIRMED\n"
     ]
    }
   ],
   "source": [
    "try:\n",
    "    builder.build_and_send('9hAcdWpFAv7biCSeUcCvXWYRfEepm1ubdsfg5PC48k9S7ymiU3W', .2)\n",
    "except Exception as e:\n",
    "    print(e)\n",
    "# time.sleep(120)"
   ]
  }
 ],
 "metadata": {
  "kernelspec": {
   "display_name": "Python 3 (ipykernel)",
   "language": "python",
   "name": "python3"
  },
  "language_info": {
   "codemirror_mode": {
    "name": "ipython",
    "version": 3
   },
   "file_extension": ".py",
   "mimetype": "text/x-python",
   "name": "python",
   "nbconvert_exporter": "python",
   "pygments_lexer": "ipython3",
   "version": "3.10.12"
  }
 },
 "nbformat": 4,
 "nbformat_minor": 5
}
