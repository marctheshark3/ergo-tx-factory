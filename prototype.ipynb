{
 "cells": [
  {
   "cell_type": "code",
   "execution_count": 1,
   "id": "3ffaa22a-fbdd-4e8c-af1d-a54806b6ff81",
   "metadata": {},
   "outputs": [],
   "source": [
    "from src.builder import BuildTokenSwapTX\n",
    "from contextlib import redirect_stdout\n",
    "import time\n",
    "from src.core import SigsCore\n",
    "import pandas as pd"
   ]
  },
  {
   "cell_type": "code",
   "execution_count": null,
   "id": "769911e0-eb91-46fa-8674-18ef6db90cba",
   "metadata": {},
   "outputs": [
    {
     "name": "stdout",
     "output_type": "stream",
     "text": [
      "updating minimum payment\n",
      "1324551 74eeec549da941ef88ace0f2f5fb0ae3b41bcbfd97ef7c5f964b92d0fba87422 270619a2c297c0818e8afc59c8a0ae679fed0c3d91d9295384f4203f23db651a\n",
      "a\n",
      "[['b0b312cde931c8bbdac0dac5bfd8e2c03bf4611275dc967988c8d15bd5ec20e0'], ['8b08cdd5449a9592a9e79711d7d79249d7a03c535d17efaee83e216e80a44c4b']] [[2.348226], [7.977535799999999]] [0.9, 0.9] DATA VERIFICATION [{'tokenId': 'b0b312cde931c8bbdac0dac5bfd8e2c03bf4611275dc967988c8d15bd5ec20e0', 'amount': 2.348226, 'token': 'Bober'}, {'tokenId': '8b08cdd5449a9592a9e79711d7d79249d7a03c535d17efaee83e216e80a44c4b', 'amount': 7.977535799999999, 'token': 'RSN'}]\n"
     ]
    },
    {
     "name": "stderr",
     "output_type": "stream",
     "text": [
      "SLF4J: Failed to load class \"org.slf4j.impl.StaticLoggerBinder\".\n",
      "SLF4J: Defaulting to no-operation (NOP) logger implementation\n",
      "SLF4J: See http://www.slf4j.org/codes.html#StaticLoggerBinder for further details.\n"
     ]
    },
    {
     "name": "stdout",
     "output_type": "stream",
     "text": [
      "submited TX: c3d6e169e32ed38bf1ceb00b486410153ece2763aae3b37dde6820c1626c5f4d\n",
      "Checking for confirmation of tx: c3d6e169e32ed38bf1ceb00b486410153ece2763aae3b37dde6820c1626c5f4d\n",
      "Failed to retrieve data: Status code 404\n",
      "TX UNconfirmed......Going to Go to Sleep!\n"
     ]
    }
   ],
   "source": [
    "robot = SigsCore()\n",
    "df = robot.execute(debug=False)"
   ]
  },
  {
   "cell_type": "code",
   "execution_count": null,
   "id": "3f0988b8-c1bf-4a11-bb73-a665c1070b28",
   "metadata": {},
   "outputs": [],
   "source": [
    "df"
   ]
  },
  {
   "cell_type": "code",
   "execution_count": 2,
   "id": "a7cd8741-a05d-4e39-8bf9-390dda609df4",
   "metadata": {},
   "outputs": [],
   "source": [
    "builder = BuildTokenSwapTX()\n",
    "my_wallet = '9iGS6knNs872VydbnzxJGfHsPmM7bfFwK7iCn8cETQT9tVS3KCh' # enter your address\n",
    "miner_wallet = '9eg7v2nkypUZbdyvSKSD9kg8FNwrEdTrfC2xdXWXmEpDAFEtYEn' # enter the miners address\n",
    "# miner_wallet = '9hAcdWpFAv7biCSeUcCvXWYRfEepm1ubdsfg5PC48k9S7ymiU3W'"
   ]
  },
  {
   "cell_type": "code",
   "execution_count": 6,
   "id": "5055d6a3-615b-46f4-8121-0301ca72545b",
   "metadata": {
    "scrolled": true
   },
   "outputs": [
    {
     "name": "stdout",
     "output_type": "stream",
     "text": [
      "gathering tokens\n",
      "1324410 f1089892310222a9e081d3ecf62422bffd8251ae42948b582e27da8bac861527 263ad60fd1e860749061f13e95ae3ea7ecf573fd4e04122ac0aa48c4dd746c6b\n",
      "trying conversion\n",
      "done\n",
      "{'token': 'ERGO', 'value': 100}\n",
      "getting token\n",
      "got it\n",
      "results {'ERGO': 0.2}\n",
      "got the tokens\n",
      "submited TX: 6e2f44c307afda48df93cd1b39e3b327747e5e79c0d36a53b92dcce498370daf\n",
      "Checking for confirmation of tx: 6e2f44c307afda48df93cd1b39e3b327747e5e79c0d36a53b92dcce498370daf\n",
      "Failed to retrieve data: Status code 404\n",
      "TX UNconfirmed......Going to Go to Sleep!\n",
      "Checking for confirmation of tx: 6e2f44c307afda48df93cd1b39e3b327747e5e79c0d36a53b92dcce498370daf\n",
      "Failed to retrieve data: Status code 404\n",
      "TX UNconfirmed......Going to Go to Sleep!\n",
      "Checking for confirmation of tx: 6e2f44c307afda48df93cd1b39e3b327747e5e79c0d36a53b92dcce498370daf\n",
      "Failed to retrieve data: Status code 404\n",
      "TX UNconfirmed......Going to Go to Sleep!\n",
      "Checking for confirmation of tx: 6e2f44c307afda48df93cd1b39e3b327747e5e79c0d36a53b92dcce498370daf\n",
      "Failed to retrieve data: Status code 404\n",
      "TX UNconfirmed......Going to Go to Sleep!\n",
      "Checking for confirmation of tx: 6e2f44c307afda48df93cd1b39e3b327747e5e79c0d36a53b92dcce498370daf\n",
      "Failed to retrieve data: Status code 404\n",
      "TX UNconfirmed......Going to Go to Sleep!\n",
      "Checking for confirmation of tx: 6e2f44c307afda48df93cd1b39e3b327747e5e79c0d36a53b92dcce498370daf\n",
      "Failed to retrieve data: Status code 404\n",
      "TX UNconfirmed......Going to Go to Sleep!\n",
      "Checking for confirmation of tx: 6e2f44c307afda48df93cd1b39e3b327747e5e79c0d36a53b92dcce498370daf\n",
      "Failed to retrieve data: Status code 404\n",
      "TX UNconfirmed......Going to Go to Sleep!\n",
      "Checking for confirmation of tx: 6e2f44c307afda48df93cd1b39e3b327747e5e79c0d36a53b92dcce498370daf\n",
      "TX CONFIRMED\n"
     ]
    }
   ],
   "source": [
    "try:\n",
    "    builder.build_and_send('9hAcdWpFAv7biCSeUcCvXWYRfEepm1ubdsfg5PC48k9S7ymiU3W', .2)\n",
    "except Exception as e:\n",
    "    print(e)\n",
    "# time.sleep(120)"
   ]
  }
 ],
 "metadata": {
  "kernelspec": {
   "display_name": "Python 3 (ipykernel)",
   "language": "python",
   "name": "python3"
  },
  "language_info": {
   "codemirror_mode": {
    "name": "ipython",
    "version": 3
   },
   "file_extension": ".py",
   "mimetype": "text/x-python",
   "name": "python",
   "nbconvert_exporter": "python",
   "pygments_lexer": "ipython3",
   "version": "3.10.12"
  }
 },
 "nbformat": 4,
 "nbformat_minor": 5
}
