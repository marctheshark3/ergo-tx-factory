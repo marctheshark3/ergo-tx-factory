{
 "cells": [
  {
   "cell_type": "markdown",
   "id": "a85500fc-dc37-41c2-8f39-87930c144fe8",
   "metadata": {},
   "source": [
    "# TO DO\n",
    "1. First we need to read in the NFT to find the miner id parameters\n",
    "2. Next we need to get the current ratio to ERG for the tokens to swap\n",
    "3. Per ratio in the \n"
   ]
  },
  {
   "cell_type": "code",
   "execution_count": 1,
   "id": "319b719c-c407-4d3d-aa3e-2ca04148214e",
   "metadata": {},
   "outputs": [],
   "source": [
    "from src.find_miner_id import ReadTokens\n",
    "from src.builder import ConvertTokens"
   ]
  },
  {
   "cell_type": "code",
   "execution_count": 2,
   "id": "06d9ebfd-d3da-4429-867b-2dc7473e8d49",
   "metadata": {},
   "outputs": [
    {
     "data": {
      "text/plain": [
       "{'ERGO': 10.0,\n",
       " 'COMET': 2179.99981,\n",
       " 'SigUSD': 3.850586,\n",
       " 'RSN': 49.123012,\n",
       " 'rsBTC': 3e-05}"
      ]
     },
     "execution_count": 2,
     "metadata": {},
     "output_type": "execute_result"
    }
   ],
   "source": [
    "wallet = '9ehJZvPDgvCNNd2zTQHxnSpcCAtb1kHbEN1VAgeoRD5DPVApYkk'\n",
    "converter = ConvertTokens()\n",
    "results = converter.execute(wallet)\n",
    "results"
   ]
  },
  {
   "cell_type": "code",
   "execution_count": 3,
   "id": "b484280c-77be-40a0-be2b-6ecca0414be5",
   "metadata": {},
   "outputs": [
    {
     "data": {
      "text/plain": [
       "{'address': '9ehJZvPDgvCNNd2zTQHxnSpcCAtb1kHbEN1VAgeoRD5DPVApYkk',\n",
       " 'height': 1306489,\n",
       " 'minimumPayout': 20,\n",
       " 'tokens': [{'token': 'ERGO', 'value': 50},\n",
       "  {'token': 'COMET', 'value': 10},\n",
       "  {'token': 'SigUSD', 'value': 10},\n",
       "  {'token': 'RSN', 'value': 20},\n",
       "  {'token': 'rsBTC', 'value': 10}],\n",
       " 'season': 0,\n",
       " 'type': 'Miner ID',\n",
       " 'fan_club': 'QX'}"
      ]
     },
     "execution_count": 3,
     "metadata": {},
     "output_type": "execute_result"
    }
   ],
   "source": [
    "converter.get_miner_id(wallet)"
   ]
  },
  {
   "cell_type": "code",
   "execution_count": 4,
   "id": "6cda3929-a41d-4c88-8867-fa6ff930fef9",
   "metadata": {},
   "outputs": [
    {
     "data": {
      "text/plain": [
       "[{'tokenId': '1', 'amount': '10.0n'},\n",
       " {'tokenId': '0cd8c9f416e5b1ca9f986a7f10a84191dfb85941619e49e53c0dc30ebf83324b',\n",
       "  'amount': '2179.99981n'},\n",
       " {'tokenId': '03faf2cb329f2e90d6d23b58d91bbb6c046aa143261cc21f52fbe2824bfcbf04',\n",
       "  'amount': '3.850586n'},\n",
       " {'tokenId': '8b08cdd5449a9592a9e79711d7d79249d7a03c535d17efaee83e216e80a44c4b',\n",
       "  'amount': '49.123012n'},\n",
       " {'tokenId': '7a51950e5f548549ec1aa63ffdc38279505b11e7e803d01bcf8347e0123c88b0',\n",
       "  'amount': '3e-05n'}]"
      ]
     },
     "execution_count": 4,
     "metadata": {},
     "output_type": "execute_result"
    }
   ],
   "source": [
    "converter = ConvertTokens()\n",
    "converter.build(wallet)"
   ]
  },
  {
   "cell_type": "raw",
   "id": "398f3611-64d1-44bf-aca7-75976ba46144",
   "metadata": {},
   "source": [
    "import { OutputBuilder, TransactionBuilder } from \"@fleet-sdk/core\";\n",
    "\n",
    "const unsignedTransaction = new TransactionBuilder(creationHeight)\n",
    "  .from(inputs)\n",
    "  .to(\n",
    "    new OutputBuilder(1000000n, \"9gNvAv97W71Wm33GoXgSQBFJxinFubKvE6wh2dEhFTSgYEe783j\").addTokens([\n",
    "      { tokenId: \"0cd8c9f416e5b1ca9f986a7f10a84191dfb85941619e49e53c0dc30ebf83324b\", amount: 100n },\n",
    "      { tokenId: \"36aba4b4a97b65be491cf9f5ca57b5408b0da8d0194f30ec8330d1e8946161c1\", amount: 429n }\n",
    "    ])\n",
    "  )\n",
    "  .sendChangeTo(\"9i2bQmRpCPLmDdVgBNyeAy7dDXqBQfjvcxVVt5YMzbDud6AvJS8\")\n",
    "  .payMinFee()\n",
    "  .build();"
   ]
  },
  {
   "cell_type": "code",
   "execution_count": 8,
   "id": "9eec11b3-ffcd-4a01-b018-aa544dedd918",
   "metadata": {},
   "outputs": [
    {
     "data": {
      "text/html": [
       "<div>\n",
       "<style scoped>\n",
       "    .dataframe tbody tr th:only-of-type {\n",
       "        vertical-align: middle;\n",
       "    }\n",
       "\n",
       "    .dataframe tbody tr th {\n",
       "        vertical-align: top;\n",
       "    }\n",
       "\n",
       "    .dataframe thead th {\n",
       "        text-align: right;\n",
       "    }\n",
       "</style>\n",
       "<table border=\"1\" class=\"dataframe\">\n",
       "  <thead>\n",
       "    <tr style=\"text-align: right;\">\n",
       "      <th></th>\n",
       "      <th>Token ID</th>\n",
       "      <th>Token Name</th>\n",
       "      <th>Token decimals</th>\n",
       "    </tr>\n",
       "  </thead>\n",
       "  <tbody>\n",
       "    <tr>\n",
       "      <th>0</th>\n",
       "      <td>1</td>\n",
       "      <td>ERGO</td>\n",
       "      <td>0</td>\n",
       "    </tr>\n",
       "    <tr>\n",
       "      <th>1</th>\n",
       "      <td>03faf2cb329f2e90d6d23b58d91bbb6c046aa143261cc2...</td>\n",
       "      <td>SigUSD</td>\n",
       "      <td>2</td>\n",
       "    </tr>\n",
       "    <tr>\n",
       "      <th>2</th>\n",
       "      <td>8b08cdd5449a9592a9e79711d7d79249d7a03c535d17ef...</td>\n",
       "      <td>RSN</td>\n",
       "      <td>3</td>\n",
       "    </tr>\n",
       "    <tr>\n",
       "      <th>3</th>\n",
       "      <td>01dce8a5632d19799950ff90bca3b5d0ca3ebfa8aaafd0...</td>\n",
       "      <td>CYPX</td>\n",
       "      <td>4</td>\n",
       "    </tr>\n",
       "    <tr>\n",
       "      <th>4</th>\n",
       "      <td>b0b312cde931c8bbdac0dac5bfd8e2c03bf4611275dc96...</td>\n",
       "      <td>Bober</td>\n",
       "      <td>3</td>\n",
       "    </tr>\n",
       "    <tr>\n",
       "      <th>5</th>\n",
       "      <td>0cd8c9f416e5b1ca9f986a7f10a84191dfb85941619e49...</td>\n",
       "      <td>COMET</td>\n",
       "      <td>0</td>\n",
       "    </tr>\n",
       "    <tr>\n",
       "      <th>6</th>\n",
       "      <td>7a51950e5f548549ec1aa63ffdc38279505b11e7e803d0...</td>\n",
       "      <td>rsBTC</td>\n",
       "      <td>8</td>\n",
       "    </tr>\n",
       "    <tr>\n",
       "      <th>7</th>\n",
       "      <td>3405d8f709a19479839597f9a22a7553bdfc1a590a4275...</td>\n",
       "      <td>love</td>\n",
       "      <td>0</td>\n",
       "    </tr>\n",
       "  </tbody>\n",
       "</table>\n",
       "</div>"
      ],
      "text/plain": [
       "                                            Token ID Token Name  \\\n",
       "0                                                  1       ERGO   \n",
       "1  03faf2cb329f2e90d6d23b58d91bbb6c046aa143261cc2...     SigUSD   \n",
       "2  8b08cdd5449a9592a9e79711d7d79249d7a03c535d17ef...        RSN   \n",
       "3  01dce8a5632d19799950ff90bca3b5d0ca3ebfa8aaafd0...       CYPX   \n",
       "4  b0b312cde931c8bbdac0dac5bfd8e2c03bf4611275dc96...      Bober   \n",
       "5  0cd8c9f416e5b1ca9f986a7f10a84191dfb85941619e49...      COMET   \n",
       "6  7a51950e5f548549ec1aa63ffdc38279505b11e7e803d0...      rsBTC   \n",
       "7  3405d8f709a19479839597f9a22a7553bdfc1a590a4275...       love   \n",
       "\n",
       "   Token decimals  \n",
       "0               0  \n",
       "1               2  \n",
       "2               3  \n",
       "3               4  \n",
       "4               3  \n",
       "5               0  \n",
       "6               8  \n",
       "7               0  "
      ]
     },
     "execution_count": 8,
     "metadata": {},
     "output_type": "execute_result"
    }
   ],
   "source": [
    "import pandas as pd\n",
    "df = pd.read_csv('https://raw.githubusercontent.com/marctheshark3/Mining-Reward-Tokens/main/supported-tokens.csv')\n",
    "df "
   ]
  },
  {
   "cell_type": "code",
   "execution_count": 31,
   "id": "41cb7567-c4bc-4d25-a883-ecbdf5727d00",
   "metadata": {},
   "outputs": [
    {
     "data": {
      "text/plain": [
       "[{'tokenId': '1', 'amount': '10.0n'},\n",
       " {'tokenId': '0cd8c9f416e5b1ca9f986a7f10a84191dfb85941619e49e53c0dc30ebf83324b',\n",
       "  'amount': '2179.99981n'},\n",
       " {'tokenId': '03faf2cb329f2e90d6d23b58d91bbb6c046aa143261cc21f52fbe2824bfcbf04',\n",
       "  'amount': '3.850586n'},\n",
       " {'tokenId': '8b08cdd5449a9592a9e79711d7d79249d7a03c535d17efaee83e216e80a44c4b',\n",
       "  'amount': '49.129664n'},\n",
       " {'tokenId': '7a51950e5f548549ec1aa63ffdc38279505b11e7e803d01bcf8347e0123c88b0',\n",
       "  'amount': '3e-05n'}]"
      ]
     },
     "execution_count": 31,
     "metadata": {},
     "output_type": "execute_result"
    }
   ],
   "source": [
    "tx_data = []\n",
    "for key in results.keys():\n",
    "    value = results[key]\n",
    "    temp_df = df[df['Token Name'] == key]\n",
    "    data = {'tokenId': temp_df['Token ID'].values[0], 'amount': '{}n'.format(value)}\n",
    "    tx_data.append(data)\n",
    "\n",
    "tx_data"
   ]
  },
  {
   "cell_type": "code",
   "execution_count": 25,
   "id": "1f6c5cfb-4555-4d1c-bd55-82cbb7c397ad",
   "metadata": {},
   "outputs": [
    {
     "data": {
      "text/plain": [
       "{'tokenId': 6    7a51950e5f548549ec1aa63ffdc38279505b11e7e803d0...\n",
       " Name: Token ID, dtype: object,\n",
       " 'amount': 3e-05}"
      ]
     },
     "execution_count": 25,
     "metadata": {},
     "output_type": "execute_result"
    }
   ],
   "source": [
    "data"
   ]
  },
  {
   "cell_type": "code",
   "execution_count": 29,
   "id": "e995852b-9963-4acd-891c-b910a6b6417f",
   "metadata": {},
   "outputs": [
    {
     "data": {
      "text/plain": [
       "'b0b312cde931c8bbdac0dac5bfd8e2c03bf4611275dc967988c8d15bd5ec20e0'"
      ]
     },
     "execution_count": 29,
     "metadata": {},
     "output_type": "execute_result"
    }
   ],
   "source": [
    "temp_df = df[df['Token Name'] == 'Bober']\n",
    "data = {'tokenId': temp_df['Token ID'], 'amount': 5}\n",
    "temp_df['Token ID'].values[0]"
   ]
  },
  {
   "cell_type": "code",
   "execution_count": null,
   "id": "c1ac68de-e483-4be1-af68-520df369f35d",
   "metadata": {},
   "outputs": [],
   "source": []
  }
 ],
 "metadata": {
  "kernelspec": {
   "display_name": "Python 3 (ipykernel)",
   "language": "python",
   "name": "python3"
  },
  "language_info": {
   "codemirror_mode": {
    "name": "ipython",
    "version": 3
   },
   "file_extension": ".py",
   "mimetype": "text/x-python",
   "name": "python",
   "nbconvert_exporter": "python",
   "pygments_lexer": "ipython3",
   "version": "3.10.12"
  }
 },
 "nbformat": 4,
 "nbformat_minor": 5
}
