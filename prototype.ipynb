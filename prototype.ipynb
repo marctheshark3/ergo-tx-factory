{
 "cells": [
  {
   "cell_type": "markdown",
   "id": "a85500fc-dc37-41c2-8f39-87930c144fe8",
   "metadata": {},
   "source": [
    "# TO DO\n",
    "1. First we need to read in the NFT to find the miner id parameters\n",
    "2. Next we need to get the current ratio to ERG for the tokens to swap\n",
    "3. Per ratio in the NFT itself we determine how much we are to end up sending to the given user\n",
    "4. Build TX for ergo factory\n"
   ]
  },
  {
   "cell_type": "code",
   "execution_count": 1,
   "id": "319b719c-c407-4d3d-aa3e-2ca04148214e",
   "metadata": {},
   "outputs": [],
   "source": [
    "from src.find_miner_id import ReadTokens"
   ]
  },
  {
   "cell_type": "code",
   "execution_count": 2,
   "id": "9e8884d6-44bc-4012-bf2b-c23bfacc6605",
   "metadata": {},
   "outputs": [],
   "source": [
    "reader = ReadTokens()"
   ]
  },
  {
   "cell_type": "code",
   "execution_count": 5,
   "id": "cdd17622-9168-4143-a0b9-180fb042eba4",
   "metadata": {},
   "outputs": [
    {
     "data": {
      "text/plain": [
       "{'address': '9ehJZvPDgvCNNd2zTQHxnSpcCAtb1kHbEN1VAgeoRD5DPVApYkk',\n",
       " 'height': 1299322,\n",
       " 'minimumPayout': 33,\n",
       " 'tokens': [{'token': 'ERGO', 'value': 50},\n",
       "  {'token': 'SigUSD', 'value': 10},\n",
       "  {'token': 'RSN', 'value': 10},\n",
       "  {'token': 'rsBTC', 'value': 10},\n",
       "  {'token': 'Gluon', 'value': 10},\n",
       "  {'token': 'COMET', 'value': 5},\n",
       "  {'token': 'Bober', 'value': 5}],\n",
       " 'season': 0,\n",
       " 'type': 'Miner ID',\n",
       " 'fan_club': 'QX'}"
      ]
     },
     "execution_count": 5,
     "metadata": {},
     "output_type": "execute_result"
    }
   ],
   "source": [
    "wallet = '9ehJZvPDgvCNNd2zTQHxnSpcCAtb1kHbEN1VAgeoRD5DPVApYkk'\n",
    "token = reader.get_latest_miner_id(wallet)\n",
    "miner_id = reader.get_token_description(token['tokenId'])\n",
    "miner_id"
   ]
  },
  {
   "cell_type": "code",
   "execution_count": 7,
   "id": "b9d403cb-ca4d-44b6-a25b-8a3d36a3789d",
   "metadata": {},
   "outputs": [
    {
     "data": {
      "text/plain": [
       "['ERGO', 'SigUSD', 'RSN', 'rsBTC', 'Gluon', 'COMET', 'Bober']"
      ]
     },
     "execution_count": 7,
     "metadata": {},
     "output_type": "execute_result"
    }
   ],
   "source": [
    "tokens_to_swap = [item['token'] for item in miner_id['tokens']]\n",
    "tokens_to_swap"
   ]
  },
  {
   "cell_type": "code",
   "execution_count": 16,
   "id": "b3cda2ed-d77f-45c1-ad84-43536e374984",
   "metadata": {},
   "outputs": [],
   "source": [
    "swap = {'ERGO': 1,\n",
    "         'SigUSD': 0.88,\n",
    "         'RSN': 12.246,\n",
    "         'rsBTC': 0.00001524,\n",
    "         'Gluon': 1, # not on spectrum\n",
    "         'COMET': 31141,\n",
    "         'Bober': 3.875}"
   ]
  },
  {
   "cell_type": "code",
   "execution_count": 19,
   "id": "57ff7c5b-13ef-44cd-927a-d78231cee0fa",
   "metadata": {},
   "outputs": [
    {
     "data": {
      "text/plain": [
       "{'ERGO': 16.5,\n",
       " 'SigUSD': 2.904,\n",
       " 'RSN': 40.4118,\n",
       " 'rsBTC': 5.0292e-05,\n",
       " 'Gluon': 3.3,\n",
       " 'COMET': 51382.649999999994,\n",
       " 'Bober': 6.39375}"
      ]
     },
     "execution_count": 19,
     "metadata": {},
     "output_type": "execute_result"
    }
   ],
   "source": [
    "conversions = {}\n",
    "payout = miner_id['minimumPayout']\n",
    "\n",
    "for item in miner_id['tokens']:    \n",
    "    token = item['token']\n",
    "    ratio = item['value']\n",
    "    ergs_to_swap = payout * ratio / 100\n",
    "    token_conversion = swap[token]\n",
    "    conversions[token] = token_conversion * ergs_to_swap\n",
    "\n",
    "conversions"
   ]
  },
  {
   "cell_type": "code",
   "execution_count": 42,
   "id": "5a3df908-fea0-4b32-836f-b9a2c9d3ff8e",
   "metadata": {},
   "outputs": [
    {
     "name": "stdout",
     "output_type": "stream",
     "text": [
      "The TOKEN Gluon ISNT SUPPORTED on SPECTRUM\n"
     ]
    },
    {
     "data": {
      "text/plain": [
       "{'ERGO': 16.5,\n",
       " 'SigUSD': 6.353466899999999,\n",
       " 'RSN': 40.5319728,\n",
       " 'rsBTC': 4.95e-05,\n",
       " 'COMET': 1798.4998432499997,\n",
       " 'Bober': 6.4154343}"
      ]
     },
     "execution_count": 42,
     "metadata": {},
     "output_type": "execute_result"
    }
   ],
   "source": [
    "class ConvertTokens:\n",
    "    def __init__(self):\n",
    "        self.reader = ReadTokens()\n",
    "        \n",
    "    def get_miner_id(self, wallet):\n",
    "        token = reader.get_latest_miner_id(wallet)\n",
    "        miner_id = reader.get_token_description(token['tokenId'])\n",
    "        return miner_id\n",
    "\n",
    "    def get_token_conversions(self, wallet, miner_id):\n",
    "        # need to read in price data from spectrum vs hard coding\n",
    "        # swap = {'ERGO': 1,\n",
    "        #      'SigUSD': 0.88,\n",
    "        #      'RSN': 12.246,\n",
    "        #      'rsBTC': 0.00001524,\n",
    "        #      'Gluon': 1, # not on spectrum\n",
    "        #      'COMET': 31141,\n",
    "        #      'Bober': 3.875}\n",
    "        spectrum_price_data = self.reader.get_api_data('https://api.spectrum.fi/v1/price-tracking/markets')\n",
    "        tokens_to_swap = [item['token'] for item in miner_id['tokens']]\n",
    "        \n",
    "        my_spectrum_data = []\n",
    "        swap = {}\n",
    "        for data in spectrum_price_data:\n",
    "            token = data['quoteSymbol']\n",
    "            if data['baseSymbol'] == 'ERG' and token in tokens_to_swap:                \n",
    "                swap[token] = data['lastPrice']\n",
    "            if 'ERGO' in tokens_to_swap:\n",
    "                swap['ERGO'] = 1\n",
    "        return swap\n",
    "\n",
    "    def create_conversion(self, miner_id, price_conversion):\n",
    "        conversions = {}\n",
    "        payout = miner_id['minimumPayout']\n",
    "        \n",
    "        for item in miner_id['tokens']:    \n",
    "            token = item['token']\n",
    "            ratio = item['value']\n",
    "            ergs_to_swap = payout * ratio / 100\n",
    "            try:\n",
    "                token_conversion = price_conversion[token]\n",
    "                conversions[token] = token_conversion * ergs_to_swap\n",
    "            except KeyError:\n",
    "                print('The TOKEN {} ISNT SUPPORTED on SPECTRUM'.format(token))\n",
    "            \n",
    "        \n",
    "        return conversions\n",
    "\n",
    "    def execute(self, wallet):\n",
    "        miner_id = self.get_miner_id(wallet)\n",
    "        price_conversion = self.get_token_conversions(wallet, miner_id)\n",
    "        return self.create_conversion(miner_id, price_conversion)\n",
    "\n",
    "converter = ConvertTokens()\n",
    "results = converter.execute(wallet)\n",
    "results"
   ]
  },
  {
   "cell_type": "code",
   "execution_count": null,
   "id": "349d3dc3-50f6-43bc-89ad-31fd5e905785",
   "metadata": {},
   "outputs": [],
   "source": []
  }
 ],
 "metadata": {
  "kernelspec": {
   "display_name": "Python 3 (ipykernel)",
   "language": "python",
   "name": "python3"
  },
  "language_info": {
   "codemirror_mode": {
    "name": "ipython",
    "version": 3
   },
   "file_extension": ".py",
   "mimetype": "text/x-python",
   "name": "python",
   "nbconvert_exporter": "python",
   "pygments_lexer": "ipython3",
   "version": "3.10.12"
  }
 },
 "nbformat": 4,
 "nbformat_minor": 5
}
