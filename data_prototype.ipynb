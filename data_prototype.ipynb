{
 "cells": [
  {
   "cell_type": "code",
   "execution_count": 3,
   "id": "8561709b-8832-4bb3-a161-e7bb301d9232",
   "metadata": {},
   "outputs": [],
   "source": [
    "import pandas as pd\n",
    "from datetime import datetime, timedelta\n",
    "import random"
   ]
  },
  {
   "cell_type": "code",
   "execution_count": 4,
   "id": "aef06d00-9204-4fc3-b0f5-4cbdaab91cf7",
   "metadata": {},
   "outputs": [
    {
     "name": "stdout",
     "output_type": "stream",
     "text": [
      "   balance  minimum payout miner  send_payment\n",
      "0        3               4     A             0\n",
      "1       17               7     B             1\n",
      "2        4              19     C             0\n",
      "3        3               9     D             0\n",
      "4       27               2     E             1\n",
      "5       13              15     F             0\n",
      "6       12              10     G             1\n",
      "7       29               5     H             1\n",
      "8       25              19     I             1\n",
      "9        5               9     J             0\n",
      "   balance  minimum payout miner  send_payment\n",
      "1       17               7     B             1\n",
      "4       27               2     E             1\n",
      "6       12              10     G             1\n",
      "7       29               5     H             1\n",
      "8       25              19     I             1\n"
     ]
    }
   ],
   "source": [
    "row_size = 10\n",
    "balances = {\n",
    "    'balance': [random.randrange(1, 30, 1) for i in range(row_size)],\n",
    "    'minimum payout': [random.randrange(1, 20, 1) for i in range(row_size)],\n",
    "    'miner': ['A', 'B', 'C', 'D', 'E', 'F', 'G', 'H', 'I', 'J'],\n",
    "    # 'current amount': [900, 450, 1900, 750, 1450, 2450, 360, 630, 1720, 1080]\n",
    "}\n",
    "balances_df = pd.DataFrame(balances)\n",
    "balances_df['send_payment'] = (balances_df['balance'] > balances_df['minimum payout']).astype(int)\n",
    "\n",
    "send_df = balances_df[balances_df['send_payment'] == 1]\n",
    "print(balances_df)\n",
    "\n",
    "print(send_df)"
   ]
  },
  {
   "cell_type": "code",
   "execution_count": 6,
   "id": "99d3feb4-e0e9-4cf2-807a-4b41ef1e7f1a",
   "metadata": {},
   "outputs": [
    {
     "data": {
      "text/plain": [
       "False"
      ]
     },
     "execution_count": 6,
     "metadata": {},
     "output_type": "execute_result"
    }
   ],
   "source": [
    "send_df.empty"
   ]
  },
  {
   "cell_type": "code",
   "execution_count": 38,
   "id": "c2518786-1684-4d71-ba5c-69a1fc2199c4",
   "metadata": {},
   "outputs": [
    {
     "name": "stdout",
     "output_type": "stream",
     "text": [
      "                        date miner  amount  swap\n",
      "0 2024-08-06 11:46:16.576440     A       7     1\n",
      "1 2024-08-05 11:46:16.576445     B      13     1\n",
      "2 2024-08-04 11:46:16.576447     C       3     0\n",
      "3 2024-08-03 11:46:16.576447     D      25     0\n",
      "4 2024-08-02 11:46:16.576448     E      22     0\n",
      "5 2024-08-01 11:46:16.576449     F       7     1\n",
      "6 2024-07-31 11:46:16.576449     G      12     1\n",
      "7 2024-07-30 11:46:16.576450     H       6     1\n",
      "8 2024-07-29 11:46:16.576451     I       8     0\n",
      "9 2024-07-28 11:46:16.576451     J       9     1\n"
     ]
    }
   ],
   "source": [
    "payment = {\n",
    "    'date': [datetime.now() - timedelta(days=i) for i in range(row_size)],\n",
    "    'miner': ['A', 'B', 'C', 'D', 'E', 'F', 'G', 'H', 'I', 'J'],\n",
    "    'amount': [random.randrange(1, 30, 1) for i in range(row_size)],\n",
    "    'swap': [random.randint(0, 1)  for _ in range(row_size)],\n",
    "}\n",
    "payment_df = pd.DataFrame(payment)\n",
    "print(payment_df)\n"
   ]
  },
  {
   "cell_type": "code",
   "execution_count": 39,
   "id": "4931f6e4-d397-4617-b4ec-475196e7b1fa",
   "metadata": {},
   "outputs": [
    {
     "name": "stdout",
     "output_type": "stream",
     "text": [
      "                        date miner  amount  swap_amount\n",
      "0 2024-08-06 11:48:14.700643     A      25           50\n",
      "1 2024-08-05 11:48:14.700650     B      29           75\n",
      "2 2024-08-04 11:48:14.700653     C      24          100\n",
      "3 2024-08-03 11:48:14.700654     D       6          125\n",
      "4 2024-08-02 11:48:14.700655     E       1          150\n",
      "5 2024-08-01 11:48:14.700657     F       9          175\n",
      "6 2024-07-31 11:48:14.700658     G       2          200\n",
      "7 2024-07-30 11:48:14.700659     H      24          225\n",
      "8 2024-07-29 11:48:14.700660     I      26          250\n",
      "9 2024-07-28 11:48:14.700661     J      17          275\n"
     ]
    }
   ],
   "source": [
    "swap_payment = { \n",
    "     'date': [datetime.now() - timedelta(days=i) for i in range(10)], \n",
    "     'miner': ['A', 'B', 'C', 'D', 'E', 'F', 'G', 'H', 'I', 'J'], \n",
    "     'amount': [random.randrange(1, 30, 1) for i in range(row_size)],\n",
    "     'swap_amount': [50, 75, 100, 125, 150, 175, 200, 225, 250, 275]\n",
    "} \n",
    "swap_payment_df = pd.DataFrame(swap_payment)\n",
    "print(swap_payment_df)"
   ]
  },
  {
   "cell_type": "code",
   "execution_count": 34,
   "id": "151f51b7-812f-4d7a-b94c-48280e2eeba4",
   "metadata": {},
   "outputs": [
    {
     "name": "stdout",
     "output_type": "stream",
     "text": [
      "10 A 1\n",
      "18 C 0\n",
      "10 D 0\n",
      "19 E 1\n",
      "15 H 1\n",
      "27 I 1\n"
     ]
    }
   ],
   "source": [
    "# Swapping and payment code\n",
    "\n",
    "for _, row in send_df.iterrows():\n",
    "    amount_to_send = row.balance\n",
    "    miner = row.miner\n",
    "\n",
    "    swapping = random.randint(0, 1) # see if miner has NFT and native tokens in description if so True otherwise False\n",
    "    print(amount_to_send, miner, swapping)\n",
    "    if swapping:\n",
    "        # TO DO \n",
    "        # Adding swapping code to perform swap \n",
    "        # add to swap payment history\n",
    "        pass\n",
    "    else:\n",
    "        # TO DO\n",
    "        # Add code to just send erg\n",
    "        pass\n",
    "\n",
    "    # update overall payment history\n",
    "    \n",
    "    "
   ]
  },
  {
   "cell_type": "code",
   "execution_count": 12,
   "id": "268cbec0-e33e-43d1-b182-be5947d559ed",
   "metadata": {},
   "outputs": [
    {
     "name": "stdout",
     "output_type": "stream",
     "text": [
      "                        date miner  amount swap\n",
      "0 2024-08-06 11:30:27.938004     A     100  Yes\n",
      "1 2024-08-05 11:30:27.938009     B     200  Yes\n",
      "2 2024-08-04 11:30:27.938010     C     300  Yes\n",
      "3 2024-08-03 11:30:27.938011     D     400  Yes\n",
      "4 2024-08-02 11:30:27.938012     E     500  Yes\n",
      "5 2024-08-01 11:30:27.938014     F     600  Yes\n",
      "6 2024-07-31 11:30:27.938014     G     700  Yes\n",
      "7 2024-07-30 11:30:27.938015     H     800  Yes\n",
      "8 2024-07-29 11:30:27.938016     I     900  Yes\n",
      "9 2024-07-28 11:30:27.938017     J    1000  Yes\n"
     ]
    }
   ],
   "source": []
  },
  {
   "cell_type": "code",
   "execution_count": 11,
   "id": "c00adc35-07ba-40d6-972b-d6aec4dc93ac",
   "metadata": {},
   "outputs": [
    {
     "name": "stdout",
     "output_type": "stream",
     "text": [
      "                        date miner  amount  swap_amount\n",
      "0 2024-08-06 11:30:26.369807     A     100           50\n",
      "1 2024-08-05 11:30:26.369812     B     200           75\n",
      "2 2024-08-04 11:30:26.369814     C     300          100\n",
      "3 2024-08-03 11:30:26.369815     D     400          125\n",
      "4 2024-08-02 11:30:26.369816     E     500          150\n",
      "5 2024-08-01 11:30:26.369817     F     600          175\n",
      "6 2024-07-31 11:30:26.369818     G     700          200\n",
      "7 2024-07-30 11:30:26.369819     H     800          225\n",
      "8 2024-07-29 11:30:26.369820     I     900          250\n",
      "9 2024-07-28 11:30:26.369821     J    1000          275\n"
     ]
    }
   ],
   "source": []
  },
  {
   "cell_type": "code",
   "execution_count": null,
   "id": "04f776d2-93aa-473d-b98b-788205295a98",
   "metadata": {},
   "outputs": [],
   "source": []
  }
 ],
 "metadata": {
  "kernelspec": {
   "display_name": "Python 3 (ipykernel)",
   "language": "python",
   "name": "python3"
  },
  "language_info": {
   "codemirror_mode": {
    "name": "ipython",
    "version": 3
   },
   "file_extension": ".py",
   "mimetype": "text/x-python",
   "name": "python",
   "nbconvert_exporter": "python",
   "pygments_lexer": "ipython3",
   "version": "3.10.12"
  }
 },
 "nbformat": 4,
 "nbformat_minor": 5
}
