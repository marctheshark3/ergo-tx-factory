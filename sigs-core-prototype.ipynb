{
 "cells": [
  {
   "cell_type": "code",
   "execution_count": 1,
   "id": "3ffaa22a-fbdd-4e8c-af1d-a54806b6ff81",
   "metadata": {},
   "outputs": [],
   "source": [
    "from src.core import SigsCore\n"
   ]
  },
  {
   "cell_type": "code",
   "execution_count": 2,
   "id": "769911e0-eb91-46fa-8674-18ef6db90cba",
   "metadata": {},
   "outputs": [
    {
     "name": "stdout",
     "output_type": "stream",
     "text": [
      "updating minimum payment\n",
      "1324551 74eeec549da941ef88ace0f2f5fb0ae3b41bcbfd97ef7c5f964b92d0fba87422 270619a2c297c0818e8afc59c8a0ae679fed0c3d91d9295384f4203f23db651a\n",
      "a\n",
      "[['b0b312cde931c8bbdac0dac5bfd8e2c03bf4611275dc967988c8d15bd5ec20e0'], ['8b08cdd5449a9592a9e79711d7d79249d7a03c535d17efaee83e216e80a44c4b']] [[7.82742], [25.869894]] [3.0, 3.0] DATA VERIFICATION [{'tokenId': 'b0b312cde931c8bbdac0dac5bfd8e2c03bf4611275dc967988c8d15bd5ec20e0', 'amount': 7.82742, 'token': 'Bober'}, {'tokenId': '8b08cdd5449a9592a9e79711d7d79249d7a03c535d17efaee83e216e80a44c4b', 'amount': 25.869894, 'token': 'RSN'}]\n",
      "java.lang.IllegalArgumentException: requirement failed: total inputs 1165800000 is less then total outputs 6001200000 WE LIKELY RAN OUT OF TOKENS OR ERG!!!!\n",
      "Failed to retrieve data: Status code 404\n"
     ]
    },
    {
     "name": "stderr",
     "output_type": "stream",
     "text": [
      "SLF4J: Failed to load class \"org.slf4j.impl.StaticLoggerBinder\".\n",
      "SLF4J: Defaulting to no-operation (NOP) logger implementation\n",
      "SLF4J: See http://www.slf4j.org/codes.html#StaticLoggerBinder for further details.\n"
     ]
    },
    {
     "name": "stdout",
     "output_type": "stream",
     "text": [
      "submited TX: 11f3127dbf10c4ae048b540ecdff9b849fc36f1caf70a4741a34f241fa4dd980\n",
      "Checking for confirmation of tx: 11f3127dbf10c4ae048b540ecdff9b849fc36f1caf70a4741a34f241fa4dd980\n",
      "Failed to retrieve data: Status code 404\n",
      "TX UNconfirmed......Going to Go to Sleep!\n",
      "Checking for confirmation of tx: 11f3127dbf10c4ae048b540ecdff9b849fc36f1caf70a4741a34f241fa4dd980\n",
      "Failed to retrieve data: Status code 404\n",
      "TX UNconfirmed......Going to Go to Sleep!\n",
      "Checking for confirmation of tx: 11f3127dbf10c4ae048b540ecdff9b849fc36f1caf70a4741a34f241fa4dd980\n",
      "Failed to retrieve data: Status code 404\n",
      "TX UNconfirmed......Going to Go to Sleep!\n",
      "Checking for confirmation of tx: 11f3127dbf10c4ae048b540ecdff9b849fc36f1caf70a4741a34f241fa4dd980\n",
      "Failed to retrieve data: Status code 404\n",
      "TX UNconfirmed......Going to Go to Sleep!\n",
      "Checking for confirmation of tx: 11f3127dbf10c4ae048b540ecdff9b849fc36f1caf70a4741a34f241fa4dd980\n",
      "Failed to retrieve data: Status code 404\n",
      "TX UNconfirmed......Going to Go to Sleep!\n",
      "Checking for confirmation of tx: 11f3127dbf10c4ae048b540ecdff9b849fc36f1caf70a4741a34f241fa4dd980\n",
      "TX CONFIRMED\n",
      "updating data\n"
     ]
    }
   ],
   "source": [
    "robot = SigsCore()\n",
    "df = robot.execute(debug=False)"
   ]
  },
  {
   "cell_type": "code",
   "execution_count": 3,
   "id": "3f0988b8-c1bf-4a11-bb73-a665c1070b28",
   "metadata": {},
   "outputs": [
    {
     "data": {
      "text/html": [
       "<div>\n",
       "<style scoped>\n",
       "    .dataframe tbody tr th:only-of-type {\n",
       "        vertical-align: middle;\n",
       "    }\n",
       "\n",
       "    .dataframe tbody tr th {\n",
       "        vertical-align: top;\n",
       "    }\n",
       "\n",
       "    .dataframe thead th {\n",
       "        text-align: right;\n",
       "    }\n",
       "</style>\n",
       "<table border=\"1\" class=\"dataframe\">\n",
       "  <thead>\n",
       "    <tr style=\"text-align: right;\">\n",
       "      <th></th>\n",
       "      <th>Asset</th>\n",
       "      <th>Amount</th>\n",
       "      <th>Miner</th>\n",
       "      <th>Balance Paid</th>\n",
       "      <th>TransactionId</th>\n",
       "    </tr>\n",
       "  </thead>\n",
       "  <tbody>\n",
       "    <tr>\n",
       "      <th>0</th>\n",
       "      <td>ERGO</td>\n",
       "      <td>6.000000</td>\n",
       "      <td>9eg7v2nkypUZbdyvSKSD9kg8FNwrEdTrfC2xdXWXmEpDAF...</td>\n",
       "      <td>10.0</td>\n",
       "      <td>NOT ENOUGH LIQUIDITY</td>\n",
       "    </tr>\n",
       "    <tr>\n",
       "      <th>1</th>\n",
       "      <td>Bober</td>\n",
       "      <td>7.827420</td>\n",
       "      <td>9eg7v2nkypUZbdyvSKSD9kg8FNwrEdTrfC2xdXWXmEpDAF...</td>\n",
       "      <td>10.0</td>\n",
       "      <td>NOT ENOUGH LIQUIDITY</td>\n",
       "    </tr>\n",
       "    <tr>\n",
       "      <th>2</th>\n",
       "      <td>RSN</td>\n",
       "      <td>25.869894</td>\n",
       "      <td>9eg7v2nkypUZbdyvSKSD9kg8FNwrEdTrfC2xdXWXmEpDAF...</td>\n",
       "      <td>10.0</td>\n",
       "      <td>NOT ENOUGH LIQUIDITY</td>\n",
       "    </tr>\n",
       "    <tr>\n",
       "      <th>3</th>\n",
       "      <td>ERGO</td>\n",
       "      <td>0.100000</td>\n",
       "      <td>9fj3mV8aF27jZBBH5HBdecVcD5hoUcqqcMmo1j8aUbCA1r...</td>\n",
       "      <td>0.1</td>\n",
       "      <td>11f3127dbf10c4ae048b540ecdff9b849fc36f1caf70a4...</td>\n",
       "    </tr>\n",
       "  </tbody>\n",
       "</table>\n",
       "</div>"
      ],
      "text/plain": [
       "   Asset     Amount                                              Miner  \\\n",
       "0   ERGO   6.000000  9eg7v2nkypUZbdyvSKSD9kg8FNwrEdTrfC2xdXWXmEpDAF...   \n",
       "1  Bober   7.827420  9eg7v2nkypUZbdyvSKSD9kg8FNwrEdTrfC2xdXWXmEpDAF...   \n",
       "2    RSN  25.869894  9eg7v2nkypUZbdyvSKSD9kg8FNwrEdTrfC2xdXWXmEpDAF...   \n",
       "3   ERGO   0.100000  9fj3mV8aF27jZBBH5HBdecVcD5hoUcqqcMmo1j8aUbCA1r...   \n",
       "\n",
       "   Balance Paid                                      TransactionId  \n",
       "0          10.0                               NOT ENOUGH LIQUIDITY  \n",
       "1          10.0                               NOT ENOUGH LIQUIDITY  \n",
       "2          10.0                               NOT ENOUGH LIQUIDITY  \n",
       "3           0.1  11f3127dbf10c4ae048b540ecdff9b849fc36f1caf70a4...  "
      ]
     },
     "execution_count": 3,
     "metadata": {},
     "output_type": "execute_result"
    }
   ],
   "source": [
    "df"
   ]
  }
 ],
 "metadata": {
  "kernelspec": {
   "display_name": "Python 3 (ipykernel)",
   "language": "python",
   "name": "python3"
  },
  "language_info": {
   "codemirror_mode": {
    "name": "ipython",
    "version": 3
   },
   "file_extension": ".py",
   "mimetype": "text/x-python",
   "name": "python",
   "nbconvert_exporter": "python",
   "pygments_lexer": "ipython3",
   "version": "3.10.12"
  }
 },
 "nbformat": 4,
 "nbformat_minor": 5
}
