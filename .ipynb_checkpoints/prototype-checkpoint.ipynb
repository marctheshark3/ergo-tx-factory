{
 "cells": [
  {
   "cell_type": "markdown",
   "id": "a85500fc-dc37-41c2-8f39-87930c144fe8",
   "metadata": {},
   "source": [
    "# TO DO\n",
    "1. First we need to read in the NFT to find the miner id parameters\n",
    "2. Next we need to get the current ratio to ERG for the tokens to swap\n",
    "3. Per ratio in the \n"
   ]
  },
  {
   "cell_type": "code",
   "execution_count": 1,
   "id": "319b719c-c407-4d3d-aa3e-2ca04148214e",
   "metadata": {},
   "outputs": [],
   "source": [
    "from src.find_miner_id import ReadTokens\n",
    "from src.builder import ConvertTokens"
   ]
  },
  {
   "cell_type": "code",
   "execution_count": 3,
   "id": "06d9ebfd-d3da-4429-867b-2dc7473e8d49",
   "metadata": {},
   "outputs": [
    {
     "data": {
      "text/plain": [
       "{'ERGO': 10.0,\n",
       " 'COMET': 2179.99981,\n",
       " 'SigUSD': 3.850586,\n",
       " 'RSN': 49.129664,\n",
       " 'rsBTC': 3e-05}"
      ]
     },
     "execution_count": 3,
     "metadata": {},
     "output_type": "execute_result"
    }
   ],
   "source": [
    "wallet = '9ehJZvPDgvCNNd2zTQHxnSpcCAtb1kHbEN1VAgeoRD5DPVApYkk'\n",
    "converter = ConvertTokens()\n",
    "results = converter.execute(wallet)\n",
    "results"
   ]
  },
  {
   "cell_type": "code",
   "execution_count": 4,
   "id": "b484280c-77be-40a0-be2b-6ecca0414be5",
   "metadata": {},
   "outputs": [
    {
     "data": {
      "text/plain": [
       "{'address': '9ehJZvPDgvCNNd2zTQHxnSpcCAtb1kHbEN1VAgeoRD5DPVApYkk',\n",
       " 'height': 1306489,\n",
       " 'minimumPayout': 20,\n",
       " 'tokens': [{'token': 'ERGO', 'value': 50},\n",
       "  {'token': 'COMET', 'value': 10},\n",
       "  {'token': 'SigUSD', 'value': 10},\n",
       "  {'token': 'RSN', 'value': 20},\n",
       "  {'token': 'rsBTC', 'value': 10}],\n",
       " 'season': 0,\n",
       " 'type': 'Miner ID',\n",
       " 'fan_club': 'QX'}"
      ]
     },
     "execution_count": 4,
     "metadata": {},
     "output_type": "execute_result"
    }
   ],
   "source": [
    "converter.get_miner_id(wallet)"
   ]
  },
  {
   "cell_type": "code",
   "execution_count": null,
   "id": "ae8f94fb-c938-4a5e-b1e1-45f906a15774",
   "metadata": {},
   "outputs": [],
   "source": []
  }
 ],
 "metadata": {
  "kernelspec": {
   "display_name": "Python 3 (ipykernel)",
   "language": "python",
   "name": "python3"
  },
  "language_info": {
   "codemirror_mode": {
    "name": "ipython",
    "version": 3
   },
   "file_extension": ".py",
   "mimetype": "text/x-python",
   "name": "python",
   "nbconvert_exporter": "python",
   "pygments_lexer": "ipython3",
   "version": "3.10.12"
  }
 },
 "nbformat": 4,
 "nbformat_minor": 5
}
