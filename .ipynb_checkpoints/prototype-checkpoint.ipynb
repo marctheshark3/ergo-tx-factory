{
 "cells": [
  {
   "cell_type": "markdown",
   "id": "a85500fc-dc37-41c2-8f39-87930c144fe8",
   "metadata": {},
   "source": [
    "# TO DO\n",
    "1. First we need to read in the NFT to find the miner id parameters\n",
    "2. Next we need to get the current ratio to ERG for the tokens to swap\n",
    "3. Per ratio in the \n"
   ]
  },
  {
   "cell_type": "code",
   "execution_count": 6,
   "id": "3ffaa22a-fbdd-4e8c-af1d-a54806b6ff81",
   "metadata": {},
   "outputs": [],
   "source": [
    "from src.builder import BuildTokenSwapTX\n",
    "from contextlib import redirect_stdout\n"
   ]
  },
  {
   "cell_type": "code",
   "execution_count": 4,
   "id": "a7cd8741-a05d-4e39-8bf9-390dda609df4",
   "metadata": {},
   "outputs": [],
   "source": [
    "builder = BuildTokenSwapTX()\n",
    "my_wallet = '9iGS6knNs872VydbnzxJGfHsPmM7bfFwK7iCn8cETQT9tVS3KCh'\n",
    "miner_wallet = '9eg7v2nkypUZbdyvSKSD9kg8FNwrEdTrfC2xdXWXmEpDAFEtYEn'"
   ]
  },
  {
   "cell_type": "code",
   "execution_count": null,
   "id": "5d37f37d-b357-4313-b386-640f197915b4",
   "metadata": {},
   "outputs": [],
   "source": [
    "try:\n",
    "    builder.build_and_send(my_wallet, miner_wallet)\n",
    "except Exception as e:\n",
    "    print(e)"
   ]
  }
 ],
 "metadata": {
  "kernelspec": {
   "display_name": "Python 3 (ipykernel)",
   "language": "python",
   "name": "python3"
  },
  "language_info": {
   "codemirror_mode": {
    "name": "ipython",
    "version": 3
   },
   "file_extension": ".py",
   "mimetype": "text/x-python",
   "name": "python",
   "nbconvert_exporter": "python",
   "pygments_lexer": "ipython3",
   "version": "3.10.12"
  }
 },
 "nbformat": 4,
 "nbformat_minor": 5
}
